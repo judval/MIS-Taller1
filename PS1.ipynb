{
 "cells": [
  {
   "cell_type": "code",
   "execution_count": 26,
   "metadata": {},
   "outputs": [],
   "source": [
    "#Importar los paquetes:\n",
    "import numpy as np\n",
    "import pandas as pd\n",
    "from pandas import read_excel\n",
    "import networkx as nx\n",
    "import matplotlib.pyplot as plt\n",
    "import itertools as it\n",
    "import time\n",
    "import seaborn as sns"
   ]
  },
  {
   "cell_type": "markdown",
   "metadata": {},
   "source": [
    "1.1"
   ]
  },
  {
   "cell_type": "code",
   "execution_count": null,
   "metadata": {},
   "outputs": [],
   "source": [
    "# Función que permite crear las matrices de adyacencia a partir de listados de 0 y 1. \n",
    "def matrix_creator(list, n):\n",
    "    m=len(list)\n",
    "    if 2*m==(n*(n-1)):\n",
    "        counter=1\n",
    "        A=[]\n",
    "        AA=[0 for i in range(n)]\n",
    "        while counter<n+1:\n",
    "            limit=n-counter\n",
    "            B=list[:limit]\n",
    "            lista=list[limit:]\n",
    "            C=AA[:counter]+B\n",
    "            A.append(C)\n",
    "            counter+=1\n",
    "        A=np.array(A)\n",
    "        return A+np.transpose(A)\n",
    "    else:\n",
    "        print(\"Fill with right inputs\")"
   ]
  },
  {
   "cell_type": "code",
   "execution_count": null,
   "metadata": {},
   "outputs": [],
   "source": [
    "#Funcion que genera una red de longitud n\n",
    "def network_creator(n):\n",
    "    A=[0]*n\n",
    "    B=[1]*n\n",
    "    saver=set()\n",
    "    counter=1\n",
    "    while counter<n:\n",
    "        C=B[:counter]+A[counter:]\n",
    "        saver=saver.union(set(it.permutations(C,n)))\n",
    "        counter+=1\n",
    "    saver=[list(i) for i in saver]\n",
    "    saver=[A]+saver+[B]\n",
    "    return(saver)"
   ]
  },
  {
   "cell_type": "code",
   "execution_count": null,
   "metadata": {},
   "outputs": [],
   "source": [
    "n=5\n",
    "long=int(((n-1)*n)/2)\n",
    "adjM=[matrix_creator(i,n) for i in network_creator(long)]\n",
    "gs=[nx.from_numpy_array(i) for i in adjM]"
   ]
  },
  {
   "cell_type": "code",
   "execution_count": null,
   "metadata": {},
   "outputs": [],
   "source": [
    "revisor={i:True for i in range(len(gs))}\n",
    "for i in revisor:\n",
    "    for j in revisor:\n",
    "        if j>i and revisor[i] and revisor[j] :\n",
    "            if nx.is_isomorphic(gs[i], gs[j]):\n",
    "                revisor[j]=False\n",
    "\n",
    "gs_def=[gs[i] for i in revisor if revisor[i]]\n",
    "adjM_def=[adjM[i] for i in revisor if revisor[i]]"
   ]
  },
  {
   "cell_type": "markdown",
   "metadata": {},
   "source": [
    "1.2"
   ]
  },
  {
   "cell_type": "code",
   "execution_count": null,
   "metadata": {},
   "outputs": [],
   "source": [
    "# Función de utilidad que nos permite generar las utilidades relevantes\n",
    "def utility_function(grafo):\n",
    "    utility_0=dict(grafo.degree())\n",
    "    utility={i:(utility_0[i])**0.5 for i in utility_0}\n",
    "    return utility\n",
    "# Esta funcion crea un diccionario con llaves = nodos i y valores = U_i(grafo)"
   ]
  },
  {
   "cell_type": "code",
   "execution_count": null,
   "metadata": {},
   "outputs": [],
   "source": [
    "#Se crea objeto con las utilidades de cada nodo\n",
    "utilities=[utility_function(i) for i in gs_def]\n",
    "for i in range(len(gs_def)):\n",
    "    nx.set_node_attributes(gs_def[i], utilities[i], \"Utility\")"
   ]
  },
  {
   "cell_type": "markdown",
   "metadata": {},
   "source": [
    "1.3"
   ]
  },
  {
   "cell_type": "code",
   "execution_count": null,
   "metadata": {},
   "outputs": [],
   "source": [
    "#Se define la lista de utilidades totales de todos los grafos. La utilidad total de cada grafo se define \n",
    "#  como la suma de las utilidades de cada nodo\n",
    "social_utility=[sum(list(nx.get_node_attributes(gs_def[i], \"Utility\").values())) for i in range(len(gs_def))]\n",
    "#Se obtiene el valor maximo entre todas las utilidades\n",
    "max_social_utility=max(social_utility)\n",
    "#Se crea la lista con los grafos cuya utilidad social es el maximo\n",
    "gs_SE=[gs_def[i] for i in range(len(social_utility)) if social_utility[i]==max_social_utility]\n",
    "\n",
    "for i in gs_SE:\n",
    "    print(\"_\"*30)\n",
    "    nx.draw(i)"
   ]
  },
  {
   "cell_type": "markdown",
   "metadata": {},
   "source": [
    "1.4"
   ]
  },
  {
   "cell_type": "code",
   "execution_count": null,
   "metadata": {},
   "outputs": [],
   "source": [
    "utilities_i=[list(nx.get_node_attributes(gs_def[i], \"Utility\").values()) for i in range(len(gs_def))]\n",
    "gs_PE=[]\n",
    "\n",
    "for k in range(0,len(gs_def)):\n",
    "    a=([sum(np.greater_equal(utilities_i[j], utilities_i[k])) \n",
    "    for j in range(0,len(gs_def)) if j!=k and sum(np.equal(utilities_i[j], utilities_i[k]))!=5])\n",
    "    if max(a)<5:\n",
    "        print(k)\n",
    "        gs_PE=gs_PE+[gs_def[k]]\n",
    "    \n",
    "for i in gs_PE:\n",
    "    print(\"_\"*30)\n",
    "    nx.draw(i)"
   ]
  },
  {
   "cell_type": "markdown",
   "metadata": {},
   "source": [
    "2.1"
   ]
  },
  {
   "cell_type": "code",
   "execution_count": null,
   "metadata": {},
   "outputs": [],
   "source": []
  },
  {
   "cell_type": "markdown",
   "metadata": {},
   "source": [
    "2.2"
   ]
  },
  {
   "cell_type": "code",
   "execution_count": null,
   "metadata": {},
   "outputs": [],
   "source": []
  },
  {
   "cell_type": "markdown",
   "metadata": {},
   "source": [
    "2.3"
   ]
  },
  {
   "cell_type": "code",
   "execution_count": null,
   "metadata": {},
   "outputs": [],
   "source": []
  },
  {
   "cell_type": "markdown",
   "metadata": {},
   "source": [
    "2.4"
   ]
  },
  {
   "cell_type": "code",
   "execution_count": null,
   "metadata": {},
   "outputs": [],
   "source": []
  },
  {
   "cell_type": "markdown",
   "metadata": {},
   "source": [
    "2.5"
   ]
  },
  {
   "cell_type": "code",
   "execution_count": null,
   "metadata": {},
   "outputs": [],
   "source": []
  },
  {
   "cell_type": "markdown",
   "metadata": {},
   "source": [
    "3.1"
   ]
  },
  {
   "cell_type": "code",
   "execution_count": 27,
   "metadata": {},
   "outputs": [],
   "source": [
    "os.chdir(\"C:/Users/ASUS/Documents/Universidad de los Andes/2022-2/Modelos de Interacciones Sociales/Taller 1\")\n",
    "A=pd.read_excel(r\"Matriz insumo-producto 2017.xlsx\", \"MIP\", engine=\"openpyxl\")\n",
    "A.rename(columns={\"Unnamed: 0\":\"Sectores\"}, inplace=True)\n",
    "A.set_index(\"Sectores\", inplace=True)\n",
    "num=A.iloc[:, 0:24]\n",
    "B=A.iloc[:, 0:25]\n",
    "d=A.iloc[:, 24:25]\n",
    "den=B.sum(axis=1)\n",
    "den=pd.DataFrame(den)\n",
    "den=den[den.columns.repeat(24)]\n",
    "den=den.T\n",
    "cols=list(den.columns.values)\n",
    "den[\"Sectores\"]=cols\n",
    "den.set_index(\"Sectores\", inplace=True)\n",
    "A=num/den\n",
    "A=pd.DataFrame(A)\n",
    "A.to_csv(\"A.csv\", decimal=\",\", index=False) "
   ]
  },
  {
   "cell_type": "markdown",
   "metadata": {},
   "source": [
    "3.2 "
   ]
  },
  {
   "cell_type": "code",
   "execution_count": 28,
   "metadata": {},
   "outputs": [],
   "source": [
    "L=np.linalg.inv(np.identity(24)-A)"
   ]
  },
  {
   "cell_type": "markdown",
   "metadata": {},
   "source": [
    "3.3\n"
   ]
  },
  {
   "cell_type": "code",
   "execution_count": 29,
   "metadata": {},
   "outputs": [],
   "source": [
    "d=pd.DataFrame(d)\n",
    "d.to_csv(\"d.csv\", decimal=\",\", index=False) "
   ]
  },
  {
   "cell_type": "markdown",
   "metadata": {},
   "source": [
    "3.4"
   ]
  },
  {
   "cell_type": "code",
   "execution_count": 33,
   "metadata": {},
   "outputs": [
    {
     "data": {
      "text/html": [
       "<div>\n",
       "<style scoped>\n",
       "    .dataframe tbody tr th:only-of-type {\n",
       "        vertical-align: middle;\n",
       "    }\n",
       "\n",
       "    .dataframe tbody tr th {\n",
       "        vertical-align: top;\n",
       "    }\n",
       "\n",
       "    .dataframe thead th {\n",
       "        text-align: right;\n",
       "    }\n",
       "</style>\n",
       "<table border=\"1\" class=\"dataframe\">\n",
       "  <thead>\n",
       "    <tr style=\"text-align: right;\">\n",
       "      <th></th>\n",
       "      <th>x</th>\n",
       "    </tr>\n",
       "  </thead>\n",
       "  <tbody>\n",
       "    <tr>\n",
       "      <th>count</th>\n",
       "      <td>24.000000</td>\n",
       "    </tr>\n",
       "    <tr>\n",
       "      <th>mean</th>\n",
       "      <td>60964.541667</td>\n",
       "    </tr>\n",
       "    <tr>\n",
       "      <th>std</th>\n",
       "      <td>39940.164260</td>\n",
       "    </tr>\n",
       "    <tr>\n",
       "      <th>min</th>\n",
       "      <td>201.769366</td>\n",
       "    </tr>\n",
       "    <tr>\n",
       "      <th>25%</th>\n",
       "      <td>30975.829955</td>\n",
       "    </tr>\n",
       "    <tr>\n",
       "      <th>50%</th>\n",
       "      <td>59078.096387</td>\n",
       "    </tr>\n",
       "    <tr>\n",
       "      <th>75%</th>\n",
       "      <td>86805.930732</td>\n",
       "    </tr>\n",
       "    <tr>\n",
       "      <th>max</th>\n",
       "      <td>154659.662547</td>\n",
       "    </tr>\n",
       "  </tbody>\n",
       "</table>\n",
       "</div>"
      ],
      "text/plain": [
       "                   x\n",
       "count      24.000000\n",
       "mean    60964.541667\n",
       "std     39940.164260\n",
       "min       201.769366\n",
       "25%     30975.829955\n",
       "50%     59078.096387\n",
       "75%     86805.930732\n",
       "max    154659.662547"
      ]
     },
     "execution_count": 33,
     "metadata": {},
     "output_type": "execute_result"
    },
    {
     "data": {
      "image/png": "[encoded data removed]",
      "text/plain": [
       "<Figure size 432x288 with 1 Axes>"
      ]
     },
     "metadata": {
      "needs_background": "light"
     },
     "output_type": "display_data"
    }
   ],
   "source": [
    "x=np.matmul(L, d)\n",
    "x[\"Sectores\"]=cols\n",
    "x.set_index(\"Sectores\", inplace=True)\n",
    "x.rename(columns={\"Gasto de Consumo Final\":\"x\"}, inplace=True)\n",
    "x.plot.bar(y=\"x\", legend=None)\n",
    "plt.xlabel(\"Sectores\")\n",
    "plt.ylabel(\"COP (millones)\")\n",
    "plt.savefig(\"x.jpg\")\n",
    "plt.savefig(\"x.jpg\", bbox_inches = \"tight\")\n",
    "x.describe()"
   ]
  },
  {
   "cell_type": "markdown",
   "metadata": {},
   "source": [
    "3.5"
   ]
  },
  {
   "cell_type": "code",
   "execution_count": 22,
   "metadata": {},
   "outputs": [
    {
     "data": {
      "text/html": [
       "<div>\n",
       "<style scoped>\n",
       "    .dataframe tbody tr th:only-of-type {\n",
       "        vertical-align: middle;\n",
       "    }\n",
       "\n",
       "    .dataframe tbody tr th {\n",
       "        vertical-align: top;\n",
       "    }\n",
       "\n",
       "    .dataframe thead th {\n",
       "        text-align: right;\n",
       "    }\n",
       "</style>\n",
       "<table border=\"1\" class=\"dataframe\">\n",
       "  <thead>\n",
       "    <tr style=\"text-align: right;\">\n",
       "      <th></th>\n",
       "      <th>delta_x</th>\n",
       "    </tr>\n",
       "  </thead>\n",
       "  <tbody>\n",
       "    <tr>\n",
       "      <th>count</th>\n",
       "      <td>24.000000</td>\n",
       "    </tr>\n",
       "    <tr>\n",
       "      <th>mean</th>\n",
       "      <td>-6096.454167</td>\n",
       "    </tr>\n",
       "    <tr>\n",
       "      <th>std</th>\n",
       "      <td>3994.016426</td>\n",
       "    </tr>\n",
       "    <tr>\n",
       "      <th>min</th>\n",
       "      <td>-15465.966255</td>\n",
       "    </tr>\n",
       "    <tr>\n",
       "      <th>25%</th>\n",
       "      <td>-8680.593073</td>\n",
       "    </tr>\n",
       "    <tr>\n",
       "      <th>50%</th>\n",
       "      <td>-5907.809639</td>\n",
       "    </tr>\n",
       "    <tr>\n",
       "      <th>75%</th>\n",
       "      <td>-3097.582995</td>\n",
       "    </tr>\n",
       "    <tr>\n",
       "      <th>max</th>\n",
       "      <td>-20.176937</td>\n",
       "    </tr>\n",
       "  </tbody>\n",
       "</table>\n",
       "</div>"
      ],
      "text/plain": [
       "            delta_x\n",
       "count     24.000000\n",
       "mean   -6096.454167\n",
       "std     3994.016426\n",
       "min   -15465.966255\n",
       "25%    -8680.593073\n",
       "50%    -5907.809639\n",
       "75%    -3097.582995\n",
       "max      -20.176937"
      ]
     },
     "execution_count": 22,
     "metadata": {},
     "output_type": "execute_result"
    },
    {
     "data": {
      "image/png": "[encoded data removed]",
      "text/plain": [
       "<Figure size 432x288 with 1 Axes>"
      ]
     },
     "metadata": {
      "needs_background": "light"
     },
     "output_type": "display_data"
    }
   ],
   "source": [
    "delta_d=-0.1*d\n",
    "delta_x=np.matmul(L, delta_d)\n",
    "delta_x[\"Sectores\"]=cols\n",
    "delta_x.set_index(\"Sectores\", inplace=True)\n",
    "delta_x.rename(columns={\"Gasto de Consumo Final\":\"delta_x\"}, inplace=True)\n",
    "delta_x.plot.bar(y=\"delta_x\", legend=None)\n",
    "plt.xlabel(\"Sectores\")\n",
    "plt.ylabel(\"COP (millones)\")\n",
    "plt.savefig(\"delta_x.jpg\", bbox_inches = \"tight\")\n",
    "delta_x.describe()"
   ]
  }
 ],
 "metadata": {
  "kernelspec": {
   "display_name": "Python 3.9.13 64-bit",
   "language": "python",
   "name": "python3"
  },
  "language_info": {
   "codemirror_mode": {
    "name": "ipython",
    "version": 3
   },
   "file_extension": ".py",
   "mimetype": "text/x-python",
   "name": "python",
   "nbconvert_exporter": "python",
   "pygments_lexer": "ipython3",
   "version": "3.9.13"
  },
  "orig_nbformat": 4,
  "vscode": {
   "interpreter": {
    "hash": "14958d3aee5f1cad06795f787e54b96185c25fb40dfec723a5be941f3a531b8c"
   }
  }
 },
 "nbformat": 4,
 "nbformat_minor": 2
}
