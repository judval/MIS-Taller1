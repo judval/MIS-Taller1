{
 "cells": [
  {
   "cell_type": "markdown",
   "metadata": {},
   "source": [
    "# **Taller 1 MiS**\n"
   ]
  },
  {
   "cell_type": "markdown",
   "metadata": {},
   "source": [
    "##### Juan Felipe Agudelo, Santiago Caraballo, Rafael Santofimio, Juan Diego Valencia "
   ]
  },
  {
   "cell_type": "code",
   "execution_count": 2,
   "metadata": {},
   "outputs": [
    {
     "name": "stdout",
     "output_type": "stream",
     "text": [
      "Requirement already satisfied: networkx in c:\\users\\juand\\appdata\\local\\packages\\pythonsoftwarefoundation.python.3.9_qbz5n2kfra8p0\\localcache\\local-packages\\python39\\site-packages (2.8.5)\n"
     ]
    },
    {
     "name": "stderr",
     "output_type": "stream",
     "text": [
      "WARNING: You are using pip version 22.0.4; however, version 22.2.2 is available.\n",
      "You should consider upgrading via the 'C:\\Users\\juand\\AppData\\Local\\Microsoft\\WindowsApps\\PythonSoftwareFoundation.Python.3.9_qbz5n2kfra8p0\\python.exe -m pip install --upgrade pip' command.\n"
     ]
    }
   ],
   "source": [
    "!pip install networkx"
   ]
  },
  {
   "cell_type": "code",
   "execution_count": 1,
   "metadata": {},
   "outputs": [],
   "source": [
    "#Importar los paquetes\n",
    "import numpy as np\n",
    "import pandas as pd\n",
    "import networkx as nx\n",
    "import matplotlib.pyplot as plt\n",
    "import itertools as it\n",
    "import time"
   ]
  },
  {
   "cell_type": "markdown",
   "metadata": {},
   "source": [
    "### Punto 1"
   ]
  },
  {
   "cell_type": "markdown",
   "metadata": {},
   "source": [
    "1. Calcule todas las posibles redes de tamaño 5 y guárdelas en un listado. Asegúrese de guardar únicamente las redes que no son isomorfas entre si, i.e. guarde únicamente un representante de cada conjunto de redes isomorfas entre si"
   ]
  },
  {
   "cell_type": "code",
   "execution_count": 2,
   "metadata": {},
   "outputs": [],
   "source": [
    "\n",
    "# Función que permite crear las matrices de adyacencia a partir de listados de 0 y 1. \n",
    "def matrix_creator(lista,n):\n",
    "    m = len(lista)\n",
    "    if 2*m == (n*(n-1)):\n",
    "        contador = 1\n",
    "        A = []\n",
    "        AA = [0 for i in range(n)]\n",
    "        while contador < n+1:\n",
    "            limite = n - contador\n",
    "            B = lista[:limite]\n",
    "            lista = lista[limite:]\n",
    "            C = AA[:contador] + B\n",
    "            A.append(C)\n",
    "            contador+=1\n",
    "        A = np.array(A)\n",
    "        return A + np.transpose(A)\n",
    "    else:\n",
    "        print(\"Introduzca los inputs correctos\")"
   ]
  },
  {
   "cell_type": "code",
   "execution_count": 3,
   "metadata": {},
   "outputs": [],
   "source": [
    "#Funcion que genera una red de longitud n\n",
    "\n",
    "def network_creator(n):\n",
    "    A = [0]*n\n",
    "    B = [1]*n\n",
    "    guardar = set()\n",
    "    contador = 1\n",
    "    while contador<n:\n",
    "        C = B[:contador]+A[contador:]\n",
    "        guardar = guardar.union(set(it.permutations(C,n)))\n",
    "        contador+=1\n",
    "    guardar = [list(i) for i in guardar]\n",
    "    guardar = [A] + guardar + [B]\n",
    "    return(guardar)\n",
    "\n"
   ]
  },
  {
   "cell_type": "code",
   "execution_count": 4,
   "metadata": {},
   "outputs": [],
   "source": [
    "n = 5\n",
    "longitud = int(((n-1)*n)/2)\n",
    "M_Adyacencia = [matrix_creator(i,n) for i in network_creator(longitud)]\n",
    "Grafos = [nx.from_numpy_array(i) for i in M_Adyacencia]"
   ]
  },
  {
   "cell_type": "code",
   "execution_count": 5,
   "metadata": {},
   "outputs": [],
   "source": [
    "Revisor = {i:True for i in range(len(Grafos))}\n",
    "for i in Revisor:\n",
    "    for j in Revisor:\n",
    "        if j>i and Revisor[i] and Revisor[j] :\n",
    "            if nx.is_isomorphic(Grafos[i],Grafos[j]):\n",
    "                Revisor[j] = False\n",
    "\n",
    "Grafos_Def = [Grafos[i] for i in Revisor if Revisor[i]]\n",
    "M_Adyacencia_Def = [M_Adyacencia[i] for i in Revisor if Revisor[i]]\n"
   ]
  },
  {
   "cell_type": "markdown",
   "metadata": {},
   "source": [
    "Calcule la utilidad de cada nodo para cada una de las redes que creó y guarde esto como\n",
    "un atributo de las redes. Utilice la función de utilidad dada por $U_i(g)=deg(i)^{1/2}$"
   ]
  }
 ],
 "metadata": {
  "kernelspec": {
   "display_name": "Python 3.8.8 ('base')",
   "language": "python",
   "name": "python3"
  },
  "language_info": {
   "codemirror_mode": {
    "name": "ipython",
    "version": 3
   },
   "file_extension": ".py",
   "mimetype": "text/x-python",
   "name": "python",
   "nbconvert_exporter": "python",
   "pygments_lexer": "ipython3",
   "version": "3.8.8"
  },
  "orig_nbformat": 4,
  "vscode": {
   "interpreter": {
    "hash": "ad2bdc8ecc057115af97d19610ffacc2b4e99fae6737bb82f5d7fb13d2f2c186"
   }
  }
 },
 "nbformat": 4,
 "nbformat_minor": 2
}
