{
 "cells": [
  {
   "cell_type": "code",
   "execution_count": null,
   "metadata": {},
   "outputs": [],
   "source": [
    "#Importe de paquetes:\n",
    "import numpy as np\n",
    "from numpy.linalg import eig\n",
    "import pandas as pd\n",
    "from pandas import read_excel\n",
    "import networkx as nx\n",
    "import matplotlib.pyplot as plt\n",
    "import itertools as it\n",
    "import scipy as sp\n",
    "import scipy.sparse.linalg\n",
    "import time\n",
    "import seaborn as sns"
   ]
  },
  {
   "cell_type": "markdown",
   "metadata": {},
   "source": [
    "**1 Estabilidad y Eficiencia**"
   ]
  },
  {
   "cell_type": "markdown",
   "metadata": {},
   "source": [
    "1.1"
   ]
  },
  {
   "cell_type": "code",
   "execution_count": null,
   "metadata": {},
   "outputs": [],
   "source": [
    "#Se crea una función que genera las matrices de adyacencia, tomando como insumo listas que albergan combinatorias (0 y 1).\n",
    "#Se crea condicional para comparar el tamaño de la matriz dado el número de nodos y combinatorias.\n",
    "#Luego creamos una lista que va albergar los valores asignados a cada nodo.\n",
    "#Se pegan los valores (0,1) a una sublistas para luego ser transpuesta.\n",
    "def matrix_creator(list, n):\n",
    "    m=len(list)\n",
    "    if 2*m==(n*(n-1)):\n",
    "        counter=1\n",
    "        A=[]\n",
    "        AA=[0 for i in range(n)]\n",
    "        while counter<n+1:\n",
    "            limit=n-counter\n",
    "            B=list[:limit]\n",
    "            lista=list[limit:]\n",
    "            C=AA[:counter]+B\n",
    "            A.append(C)\n",
    "            counter+=1\n",
    "        A=np.array(A)\n",
    "        return A+np.transpose(A)\n",
    "    else:\n",
    "        print(\"Fill with right inputs\")"
   ]
  },
  {
   "cell_type": "code",
   "execution_count": null,
   "metadata": {},
   "outputs": [],
   "source": [
    "#Creación de función que genera una red de longitud (tamaño) n:\n",
    "\n",
    "#Se inicializa dos (2) listas que van albergar las conexiones (1 para link entre ij, 0 de lo contrario).\n",
    "#Se crea una función contadora y otra de almacenamiento que van a iterar entres los nodos y guarda los resultados de las combinatoria entre los nodos.\n",
    "#Finalmente, se reporta a través de una suma de listas una red de tamaño n.\n",
    "def network_creator(n):\n",
    "    A=[0]*n\n",
    "    B=[1]*n\n",
    "    saver=set()\n",
    "    counter=1\n",
    "    while counter<n:\n",
    "        C=B[:counter]+A[counter:]\n",
    "        saver=saver.union(set(it.permutations(C,n)))\n",
    "        counter+=1\n",
    "    saver=[list(i) for i in saver]\n",
    "    saver=[A]+saver+[B]\n",
    "    return(saver)"
   ]
  },
  {
   "cell_type": "code",
   "execution_count": null,
   "metadata": {},
   "outputs": [],
   "source": [
    "#Construcción de redes de cinco (5) nodos y sus matrices adjuntas:\n",
    "\n",
    "#Se fija el numero de nodos de la red n = 5.\n",
    "#Luego, se calcula el numero maximo de enlaces.\n",
    "#Posteriormente, se crea la matriz de adyacencia para los cinco (5) nodos y se construye la red.\n",
    "#Cierra con una lista que guarda la asignación generada en la matriz de adyacencia.\n",
    "n=5\n",
    "long=int(((n-1)*n)/2)\n",
    "adjM=[matrix_creator(i,n) for i in network_creator(long)]\n",
    "gs=[nx.from_numpy_array(i) for i in adjM]"
   ]
  },
  {
   "cell_type": "code",
   "execution_count": null,
   "metadata": {},
   "outputs": [],
   "source": [
    "#Creación de función que revisa las redes isomorfas:\n",
    "\n",
    "#Se crea un diccionario que va permitir verificar el insomorfismo de los valores guardados en la lista \"gs\" a tarvés de bucles anidados, \n",
    "#se recorrer la lista \"gs\" para verificar los valores idénticos.\n",
    "#Finalmente, se crea una (1) matriz adjunta que almacena los valores definitvos de la red.\n",
    "revisor={i:True for i in range(len(gs))}\n",
    "for i in revisor:\n",
    "    for j in revisor:\n",
    "        if j>i and revisor[i] and revisor[j] :\n",
    "            if nx.is_isomorphic(gs[i], gs[j]):\n",
    "                revisor[j]=False\n",
    "\n",
    "gs_def=[gs[i] for i in revisor if revisor[i]]\n",
    "adjM_def=[adjM[i] for i in revisor if revisor[i]]"
   ]
  },
  {
   "cell_type": "markdown",
   "metadata": {},
   "source": [
    "1.2"
   ]
  },
  {
   "cell_type": "code",
   "execution_count": null,
   "metadata": {},
   "outputs": [],
   "source": [
    "#Creación de función de utilidad que nos permite generar las utilidades relevantes. Esta crea un diccionario con llaves=nodos i y valores=u_i(grafo):\n",
    "\n",
    "#Se contruye con el atributo grafo, y luego calcula con base en este las utlidades para cada nodo.\n",
    "#Se construye la función de utlidad a partir del grado e itera para cada nodo.\n",
    "def utility_function(grafo):\n",
    "    utility_0=dict(grafo.degree())\n",
    "    utility={i:(utility_0[i])**0.5 for i in utility_0}\n",
    "    return utility"
   ]
  },
  {
   "cell_type": "code",
   "execution_count": null,
   "metadata": {},
   "outputs": [],
   "source": [
    "#Construcción de un objeto con las utilidades de cada nodo:\n",
    "\n",
    "#Se crea una lista que guarda la utlidad calculada para cada nodo a partir de la función creada en el item anterior y los registros de las redes isomorfas.\n",
    "#Empleando la función nx.set_node_attributes se le asigna estos valores a cada nodo y guarda.\n",
    "utilities=[utility_function(i) for i in gs_def]\n",
    "for i in range(len(gs_def)):\n",
    "    nx.set_node_attributes(gs_def[i], utilities[i], \"Utility\")"
   ]
  },
  {
   "cell_type": "markdown",
   "metadata": {},
   "source": [
    "1.3"
   ]
  },
  {
   "cell_type": "code",
   "execution_count": null,
   "metadata": {},
   "outputs": [],
   "source": [
    "#Definición de la lista de utilidades totales de todos los grafos. La utilidad total de cada grafo se define como la sumatoria de las utilidades de cada nodo:\n",
    "social_utility=[sum(list(nx.get_node_attributes(gs_def[i], \"Utility\").values())) for i in range(len(gs_def))]\n",
    "#Obtención el valor máximo entre todas las utilidades:\n",
    "max_social_utility=max(social_utility)\n",
    "#Se crea una lista que guarda los grafos con max_social_utility, para esto se compara los valores guardados en la lista social_utility y luego compara con el valor máximo de esta.\n",
    "gs_SE=[gs_def[i] for i in range(len(social_utility)) if social_utility[i]==max_social_utility]\n",
    "\n",
    "#Imprimir los grafos:\n",
    "for i in gs_SE:\n",
    "    print(\"_\"*30)\n",
    "    nx.draw(i)"
   ]
  },
  {
   "cell_type": "markdown",
   "metadata": {},
   "source": [
    "1.4"
   ]
  },
  {
   "cell_type": "code",
   "execution_count": null,
   "metadata": {},
   "outputs": [],
   "source": [
    "#Análogo al item anterior, se construye una lista que guarda las utilidades de cada grafo:\n",
    "utilities_i=[list(nx.get_node_attributes(gs_def[i], \"Utility\").values()) for i in range(len(gs_def))]\n",
    "gs_PE=[]\n",
    "\n",
    "#Se itera sobre todos los grafos posibles extrayendo una lista que calcula para cada grafo k, el número de nodos que son mayores o \n",
    "#iguales en el grafo j. Si el número maximo de nodos mayores o iguales a la red j es menor a cinco (5) significa que no existe otra red \n",
    "#que pueda mejorar la utilidad de la menos un (1) nodo y mantener la de los demás costante.\n",
    "#Finalmente crea una lista que guarda las redes Pareto-eficientes. \n",
    "for k in range(0,len(gs_def)):\n",
    "    a=([sum(np.greater_equal(utilities_i[j], utilities_i[k])) \n",
    "    for j in range(0,len(gs_def)) if j!=k and sum(np.equal(utilities_i[j], utilities_i[k]))!=5])\n",
    "    if max(a)<5:\n",
    "        print(k)\n",
    "        gs_PE=gs_PE+[gs_def[k]]\n",
    "\n",
    "#Imprimir los grafos:\n",
    "for i in gs_PE:\n",
    "    print(\"_\"*30)\n",
    "    nx.draw(i)"
   ]
  },
  {
   "cell_type": "markdown",
   "metadata": {},
   "source": [
    "1.5"
   ]
  },
  {
   "cell_type": "code",
   "execution_count": null,
   "metadata": {},
   "outputs": [],
   "source": [
    "#Se define una lista con las utilidades de cada grafo. \n",
    "utilities_i=[list(nx.get_node_attributes(gs_def[i],\"Utility\").values()) for i in range(len(gs_def))]\n",
    "\n",
    "#Se crea una lista que contiene los grados de cada nodo para todos los grafos contenifos en gs_def.\n",
    "degrees=[list(dict(gs_def[j].degree).values()) for j in range(len(gs_def))]\n",
    "#Lista vacias que se utilizaran en el loop. \n",
    "gs_E=[]\n",
    "\n",
    "#Se realiza un loop que compara las utilidades de cada nodo para cada grafo con los nodos de los grafos restantes que poseen un (1) grado mas\n",
    "#o un (1) grado menos. Si la utilidad de un nodo h es mayor en el grafo z que en el k, entonces se retorna un verdadero en la posición del nodo \n",
    "#de la lista compututilities. Esta lista se suma y, si las sumas de cada lista computilities para los grafos z distintos de k dan como \n",
    "#resultado todas al tiempo cero (0), entonces quiere decir que ningun nodo del grafo k tiene incentivos a crear o destruir enlaces, por lo que \n",
    "#dicho grafo se guarda en la lista de grafos estables gs_E.\n",
    "for k in range(0,len(gs_def)):\n",
    "   degrees_k=degrees[k]\n",
    "   sumcu=[]\n",
    "   for z in range(0,len(gs_def)):\n",
    "      if z!=k:\n",
    "         degrees_z=degrees[z]\n",
    "         utilities_ik=utilities_i[k]\n",
    "         utilities_iz=utilities_i[z]\n",
    "         computilities=([np.greater(utilities_iz[h],utilities_ik[h])\n",
    "         for h in range (0,5) if degrees_k[h]-1==degrees_z[h] or degrees_k[h]+1==degrees_z[h]])\n",
    "         sumcu+=[sum(computilities)]\n",
    "   if max(sumcu)==0:\n",
    "      gs_E+=[gs_def[k]]\n",
    "\n",
    "#Imprimir los grafos:\n",
    "for i in gs_E:\n",
    "    print(\"_\"*30)\n",
    "    nx.draw(i)"
   ]
  },
  {
   "cell_type": "markdown",
   "metadata": {},
   "source": [
    "1.6"
   ]
  },
  {
   "cell_type": "code",
   "execution_count": null,
   "metadata": {},
   "outputs": [],
   "source": [
    "#Se genera una lista con la suma de las utilidades para cada uno de los grafos estables estimados en el item anterior (1.5).\n",
    "utilities_E=([sum(list(nx.get_node_attributes(gs_E[i],\"Utility\").values())) for i in range(len(gs_E))])\n",
    "#Luego se calcula la máxima y mínima utilidad entre los grafos estables, a partir de las utlidades guradas en utilities_E.\n",
    "UEmax=max(utilities_E)\n",
    "UEmin=min(utilities_E)\n",
    "#Finalmente se estima el precio estable (PE) y precio de anarquía (PA) a partir de la utilidad social estiamda en el punto 1.3.\n",
    "PE=max_social_utility/UEmax\n",
    "PA=max_social_utility/UEmin\n",
    "print(PE, PA)"
   ]
  },
  {
   "cell_type": "markdown",
   "metadata": {},
   "source": [
    "**2 Medidas sobre Redes**"
   ]
  },
  {
   "cell_type": "markdown",
   "metadata": {},
   "source": [
    "2.1"
   ]
  },
  {
   "cell_type": "code",
   "execution_count": null,
   "metadata": {},
   "outputs": [],
   "source": [
    "#Se extrae una lista con todos los nodos de origen: \n",
    "\n",
    "#Volvemos esa lista una columna del data frame. \n",
    "#Usamos la funcion de value_counts normalizada para ver cuántos representan de la poblacion total.\n",
    "#Devuelve una serie donde la columna cero (0) es el identificador del nodo y la columna uno (1) es la cantidad de nodos del cuál es el origen de manera normalizada.\n",
    "\n",
    "def Hubs(Network, percen):\n",
    "    df=pd.DataFrame()\n",
    "    Hubs=[i[0] for i in Network.edges()] \n",
    "    df[\"Hubs\"]=Hubs \n",
    "    Hubs=df[\"Hubs\"].value_counts(normalize=percen) \n",
    "    return Hubs "
   ]
  },
  {
   "cell_type": "markdown",
   "metadata": {},
   "source": [
    "2.2"
   ]
  },
  {
   "cell_type": "code",
   "execution_count": null,
   "metadata": {},
   "outputs": [],
   "source": [
    "#Se extrae en una lista todos los nodos de destino:\n",
    "\n",
    "#Volvemos esa lista una columna del data frame.\n",
    "#Usamos la funcion de Value_counts normalizada para ver cuantos representan de la poblacion total\n",
    "#Devuelve una serie donde la columna cero (0) es el identificador del nodo y la columna uno (1) es la cantidad de nodos del cual el es destino de manera normalizada.\n",
    "\n",
    "def Author(Network, percen):\n",
    "    df=pd.DataFrame()\n",
    "    Author=[i[1] for i in Network.edges()] \n",
    "    df[\"Author\"]=Author \n",
    "    Author=df[\"Author\"].value_counts(normalize=percen) \n",
    "    return Author "
   ]
  },
  {
   "cell_type": "markdown",
   "metadata": {},
   "source": [
    "2.3"
   ]
  },
  {
   "cell_type": "code",
   "execution_count": null,
   "metadata": {},
   "outputs": [],
   "source": [
    "def Bonanich(Network):\n",
    "    M=nx.to_numpy_matrix(Network) #Extraer la matriz de adyacencia.\n",
    "    auva, auve=sp.sparse.linalg.eigs(M, k=1) #Hallar el autovector y el autovalor.\n",
    "    auve_G=auve.flatten().real #Pasar de una matriz a una lista.\n",
    "    norm=np.sign(auve_G.sum())*np.linalg.norm(auve_G)\n",
    "    vectores=(auve_G/norm).astype(float) #Los lamdas que resuelven la ecuación.\n",
    "    centrality=dict(zip(g_twi, vectores)) #Mapea entre los nodos y los vectores anteriormente descritos.\n",
    "    return centrality"
   ]
  },
  {
   "cell_type": "markdown",
   "metadata": {},
   "source": [
    "2.4"
   ]
  },
  {
   "cell_type": "code",
   "execution_count": 24,
   "metadata": {},
   "outputs": [
    {
     "data": {
      "image/png": "[encoded data removed]",
      "text/plain": [
       "<Figure size 432x288 with 1 Axes>"
      ]
     },
     "metadata": {},
     "output_type": "display_data"
    }
   ],
   "source": [
    "#Cargue de la base de datos ->configure aquí su directorio<-:\n",
    "os.chdir(\"C:/Users/ASUS/Documents/Universidad de los Andes/2022-2/Modelos de Interacciones Sociales/Taller 1/T1_MIS_201921573_201813007_201924300_201815561.zip/Inputs\")\n",
    "twi=pd.read_csv(\"2020_20_MIS_T1_Twitter.csv\") \n",
    "twi.pop(\"Unnamed: 0\")\n",
    "g_twi=nx.Graph()\n",
    "g_twi=nx.from_pandas_edgelist(twi, source=\"From\", target=\"To\")\n",
    "M_twi=nx.to_numpy_matrix(g_twi)\n",
    "nx.draw_networkx(g_twi,with_labels=False, node_size=1)\n",
    "plt.show()"
   ]
  },
  {
   "cell_type": "markdown",
   "metadata": {},
   "source": [
    "2.5"
   ]
  },
  {
   "cell_type": "code",
   "execution_count": null,
   "metadata": {},
   "outputs": [],
   "source": [
    "HUBS=Hubs(g_twi, percen=True) #Se corre la funcion con la información de Twitter.\n",
    "s=pd.Series(HUBS, name=\"HUBS\") \n",
    "s=s.to_frame().reset_index() #Se vuelve la serie un data frame. \n",
    "s.columns=[\"ID (nodo)\", \"Hubs\"]\n",
    "s=s.sort_values(by=\"Hubs\", ascending=False) #Se organiza de mayor a menor.\n",
    "HUBS=s\n",
    "HUBS"
   ]
  },
  {
   "cell_type": "code",
   "execution_count": null,
   "metadata": {},
   "outputs": [],
   "source": [
    "AUTHOR=Author(g_twi, percen=True) #Se corre la función con la información de Twitter.\n",
    "s=pd.Series(AUTHOR, name=\"AUTHOR\") \n",
    "s=s.to_frame().reset_index() #Se vuelve la serie un data frame. \n",
    "s.columns=[\"ID (nodo)\", \"Authorities\"]\n",
    "s=s.sort_values(by=\"Authorities\", ascending=False) #Se organiza de mayor a menor.\n",
    "AUTHOR=s \n",
    "AUTHOR"
   ]
  },
  {
   "cell_type": "code",
   "execution_count": null,
   "metadata": {},
   "outputs": [],
   "source": [
    "BONA=Bonanich(g_twi) #Se corre la función con la información de Twitter.\n",
    "s=pd.DataFrame.from_dict(BONA, orient=\"index\", columns=[\"Bonanich\"]) #Se crea un data frame de el diccionario\n",
    "s=s.reset_index() \n",
    "s.columns=[\"ID (nodo)\",\"Bonanich\"]\n",
    "s=s.sort_values(by=\"Bonanich\", ascending=False) #Se organiza de mayor a menor.\n",
    "BONA=s\n",
    "BONA"
   ]
  },
  {
   "cell_type": "markdown",
   "metadata": {},
   "source": [
    "**3 Producción**"
   ]
  },
  {
   "cell_type": "markdown",
   "metadata": {},
   "source": [
    "3.1"
   ]
  },
  {
   "cell_type": "code",
   "execution_count": null,
   "metadata": {},
   "outputs": [],
   "source": [
    "A=pd.read_excel(r\"Matriz insumo-producto 2017.xlsx\", \"MIP\", engine=\"openpyxl\") #Cargue de la base de datos:\n",
    "\n",
    "#Creación de la matriz de coeficientes técnicos:\n",
    "\n",
    "A.rename(columns={\"Unnamed: 0\":\"Sectores\"}, inplace=True)\n",
    "A.set_index(\"Sectores\", inplace=True)\n",
    "num=A.iloc[:, 0:24]\n",
    "B=A.iloc[:, 0:25]\n",
    "d=A.iloc[:, 24:25]\n",
    "den=B.sum(axis=1)\n",
    "den=pd.DataFrame(den)\n",
    "den=den[den.columns.repeat(24)]\n",
    "den=den.T\n",
    "cols=list(den.columns.values)\n",
    "den[\"Sectores\"]=cols\n",
    "den.set_index(\"Sectores\", inplace=True)\n",
    "A=num/den\n",
    "A=pd.DataFrame(A)\n",
    "\n",
    "A.to_csv(\"A.csv\", decimal=\",\", index=False) #Guardado del dataframe A a formato .csv. "
   ]
  },
  {
   "cell_type": "markdown",
   "metadata": {},
   "source": [
    "3.2 "
   ]
  },
  {
   "cell_type": "code",
   "execution_count": null,
   "metadata": {},
   "outputs": [],
   "source": [
    "L=np.linalg.inv(np.identity(24)-A) #Cómputo de la matriz inversa de Leontief."
   ]
  },
  {
   "cell_type": "markdown",
   "metadata": {},
   "source": [
    "3.3\n"
   ]
  },
  {
   "cell_type": "code",
   "execution_count": null,
   "metadata": {},
   "outputs": [],
   "source": [
    "d=pd.DataFrame(d)\n",
    "d.to_csv(\"d.csv\", decimal=\",\", index=False) #Guardado del dataframe d a formato .csv."
   ]
  },
  {
   "cell_type": "markdown",
   "metadata": {},
   "source": [
    "3.4"
   ]
  },
  {
   "cell_type": "code",
   "execution_count": null,
   "metadata": {},
   "outputs": [],
   "source": [
    "x=np.matmul(L, d) #Vector de equilibrio.\n",
    "x[\"Sectores\"]=cols\n",
    "x.set_index(\"Sectores\", inplace=True)\n",
    "x.rename(columns={\"Gasto de Consumo Final\":\"x\"}, inplace=True)\n",
    "\n",
    "x.plot.bar(y=\"x\", legend=None) #Gráfica.\n",
    "plt.xlabel(\"Sectores\")\n",
    "plt.ylabel(\"COP (millones)\")\n",
    "plt.savefig(\"x.jpg\")\n",
    "plt.savefig(\"x.jpg\", bbox_inches = \"tight\")\n",
    "\n",
    "x.describe() #Estadísticas descriptivas. "
   ]
  },
  {
   "cell_type": "markdown",
   "metadata": {},
   "source": [
    "3.5"
   ]
  },
  {
   "cell_type": "code",
   "execution_count": null,
   "metadata": {},
   "outputs": [],
   "source": [
    "delta_d=-0.1*d #Cambio en el vector de equilibrio. \n",
    "delta_x=np.matmul(L, delta_d)\n",
    "delta_x[\"Sectores\"]=cols\n",
    "delta_x.set_index(\"Sectores\", inplace=True)\n",
    "delta_x.rename(columns={\"Gasto de Consumo Final\":\"delta_x\"}, inplace=True)\n",
    "\n",
    "delta_x.plot.bar(y=\"delta_x\", legend=None) #Gráfica.\n",
    "plt.xlabel(\"Sectores\")\n",
    "plt.ylabel(\"COP (millones)\")\n",
    "plt.savefig(\"delta_x.jpg\", bbox_inches = \"tight\")\n",
    "\n",
    "delta_x.describe() #Estadísticas descriptivas. "
   ]
  }
 ],
 "metadata": {
  "kernelspec": {
   "display_name": "Python 3.9.13 64-bit",
   "language": "python",
   "name": "python3"
  },
  "language_info": {
   "codemirror_mode": {
    "name": "ipython",
    "version": 3
   },
   "file_extension": ".py",
   "mimetype": "text/x-python",
   "name": "python",
   "nbconvert_exporter": "python",
   "pygments_lexer": "ipython3",
   "version": "3.9.13"
  },
  "orig_nbformat": 4,
  "vscode": {
   "interpreter": {
    "hash": "14958d3aee5f1cad06795f787e54b96185c25fb40dfec723a5be941f3a531b8c"
   }
  }
 },
 "nbformat": 4,
 "nbformat_minor": 2
}
