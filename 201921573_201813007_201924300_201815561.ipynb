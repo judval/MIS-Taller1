{
 "cells": [
  {
   "cell_type": "markdown",
   "metadata": {},
   "source": [
    "# **Taller 1 MiS**\n"
   ]
  },
  {
   "cell_type": "markdown",
   "metadata": {},
   "source": [
    "##### Juan Felipe Agudelo, Santiago Caraballo, Rafael Santofimio, Juan Diego Valencia "
   ]
  },
  {
   "cell_type": "markdown",
   "metadata": {},
   "source": [
    "### Punto 1"
   ]
  },
  {
   "cell_type": "markdown",
   "metadata": {},
   "source": [
    "1. Calcule todas las posibles redes de tamaño 5 y guárdelas en un listado. Asegúrese de guardar únicamente las redes que no son isomorfas entre si, i.e. guarde únicamente un representante de cada conjunto de redes isomorfas entre si"
   ]
  },
  {
   "cell_type": "code",
   "execution_count": null,
   "metadata": {},
   "outputs": [],
   "source": []
  }
 ],
 "metadata": {
  "kernelspec": {
   "display_name": "Python 3.9.5 64-bit",
   "language": "python",
   "name": "python3"
  },
  "language_info": {
   "name": "python",
   "version": "3.9.5"
  },
  "orig_nbformat": 4,
  "vscode": {
   "interpreter": {
    "hash": "49ddeada2ee2df7166b571c9e368908a4f8922a13c50c855ca8273e94b31b98f"
   }
  }
 },
 "nbformat": 4,
 "nbformat_minor": 2
}
